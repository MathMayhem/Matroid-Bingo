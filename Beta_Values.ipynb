{
 "cells": [
  {
   "cell_type": "markdown",
   "id": "3bd5fcd9",
   "metadata": {},
   "source": []
  },
  {
   "cell_type": "markdown",
   "id": "386c03c2",
   "metadata": {},
   "source": [
    "<a href=\"https://colab.research.google.com/github/MathMayhem/Matroid-Bingo/blob/main/Beta_Values.ipynb\" target=\"_parent\">\n",
    "  <img src=\"https://colab.research.google.com/assets/colab-badge.svg\" alt=\"Open In Colab\"/>\n",
    "</a>"
   ]
  },
  {
   "cell_type": "code",
   "execution_count": null,
   "id": "08356fd8",
   "metadata": {
    "vscode": {
     "languageId": "plaintext"
    }
   },
   "outputs": [],
   "source": [
    "import os\n",
    "import pickle\n",
    "import math"
   ]
  },
  {
   "cell_type": "code",
   "execution_count": null,
   "id": "2ca00f21",
   "metadata": {
    "vscode": {
     "languageId": "plaintext"
    }
   },
   "outputs": [],
   "source": [
    "# Download our pickle files to your google drive into a file called \"Matroid Bingo Data\" and mount your drive by running this cell\n",
    "from google.colab import drive\n",
    "drive.mount('/content/drive')"
   ]
  },
  {
   "cell_type": "code",
   "execution_count": null,
   "id": "3ac75039",
   "metadata": {
    "vscode": {
     "languageId": "plaintext"
    }
   },
   "outputs": [],
   "source": [
    "# Must be ran for the calc_beta_values function to work!\n",
    "max_n = 10\n",
    "\n",
    "max_N = 2**max_n\n",
    "supersets = [[] for i in range(max_N)]\n",
    "for i in range(max_N):\n",
    "  for j in range(max_N):\n",
    "    if (i & j) == i:\n",
    "      supersets[i].append(j)"
   ]
  },
  {
   "cell_type": "code",
   "execution_count": null,
   "id": "5f4fa979",
   "metadata": {
    "vscode": {
     "languageId": "plaintext"
    }
   },
   "outputs": [],
   "source": [
    "# Calculates the beta values of the input matroid using the formula from Theorem B\n",
    "\n",
    "# Input: Given matroid M on groundset E = [n] (n < max_n) with circuits c_1, ..., c_m,\n",
    "# the proper input syntax is [n, c_1, ..., c_m] where the c_i's are also lists\n",
    "\n",
    "# Output: A tuple of the untimed and timed beta values.\n",
    "# Specifically, the untimed beta values are stored in a list where the (i - 1)-th entry is n! times the beta value of circuit c_i.\n",
    "# And the timed beta values are a list of lists where the (t - 1)-th entry of the (i - 1)-th list is n! times the timed beta value of circuit c_i on round t\n",
    "\n",
    "def calc_beta_values(matroid):\n",
    "  n = matroid[0]\n",
    "  N = 2**n\n",
    "  circuits = matroid[1:]\n",
    "  m = len(circuits)\n",
    "  betas = [0]*m\n",
    "  timed_betas = [[0]*n for i in range(m)]\n",
    "\n",
    "  # Encodes circuit elements into binary integers\n",
    "  circuit_indices = [sum([2**(e - 1) for e in c]) for c in circuits]\n",
    "\n",
    "  # Creates a fast lookup table for how many circuits are completed by each possible subset of E\n",
    "  lookup_table = [0]*N\n",
    "  for i in range(m):\n",
    "    for superset in supersets[circuit_indices[i]]:\n",
    "      if superset >= N:\n",
    "        break\n",
    "      lookup_table[superset] += 1\n",
    "\n",
    "  # Implements the formula from Theorem B\n",
    "  for i in range(m):\n",
    "    s = len(circuits[i])\n",
    "\n",
    "    # These are the I_{C, k} values from the Theorem B\n",
    "    ind_set_counts = [0]*(n - s + 1)\n",
    "    for superset in supersets[circuit_indices[i]]:\n",
    "      if superset >= N:\n",
    "        break\n",
    "      if lookup_table[superset] == 1:\n",
    "        ind_set_counts[bin(superset)[2:].count('1') - s] += 1\n",
    "    \n",
    "    for k in range(n - s + 1):\n",
    "      timed_betas[i][s + k - 1] = ind_set_counts[k]*s*math.factorial(s + k - 1)*math.factorial(n - s - k)\n",
    "      betas[i] += timed_betas[i][s + k - 1]\n",
    "\n",
    "  return betas, timed_betas"
   ]
  },
  {
   "cell_type": "code",
   "execution_count": null,
   "id": "d0cc762e",
   "metadata": {
    "vscode": {
     "languageId": "plaintext"
    }
   },
   "outputs": [],
   "source": [
    "# Loads the non-isomorphic matroids on up to 9 elements from the pickle files\n",
    "save_path = '/content/drive/My Drive/Matroid Bingo Data/'\n",
    "with open(os.path.join(save_path, 'circuits.pkl'), 'rb') as file:\n",
    "  matroids = pickle.load(file)"
   ]
  },
  {
   "cell_type": "code",
   "execution_count": null,
   "id": "b4079779",
   "metadata": {
    "vscode": {
     "languageId": "plaintext"
    }
   },
   "outputs": [],
   "source": [
    "# Calculates the beta values of all database matroids\n",
    "all_betas = []\n",
    "all_timed_betas = []\n",
    "for matroid in matroids:\n",
    "  betas, timed_betas = calc_beta_values(matroid)\n",
    "  all_betas.append(betas)\n",
    "  all_timed_betas.append(timed_betas)"
   ]
  },
  {
   "cell_type": "code",
   "execution_count": null,
   "id": "19b5c2f6",
   "metadata": {
    "vscode": {
     "languageId": "plaintext"
    }
   },
   "outputs": [],
   "source": [
    "# Loads the beta values of all database matroids from the pickle files\n",
    "save_path = '/content/drive/My Drive/Matroid Bingo Data/'\n",
    "with open(os.path.join(save_path, 'beta values.pkl'), 'rb') as file:\n",
    "  all_betas_2 = pickle.load(file)\n",
    "with open(os.path.join(save_path, 'timed beta values.pkl'), 'rb') as file:\n",
    "  all_timed_betas_2 = pickle.load(file)"
   ]
  },
  {
   "cell_type": "code",
   "execution_count": null,
   "id": "dda26789",
   "metadata": {
    "vscode": {
     "languageId": "plaintext"
    }
   },
   "outputs": [],
   "source": [
    "# Finds all the database matroids with monotonicity violations\n",
    "monotonicity_violations = []\n",
    "for i in range(len(matroids)):\n",
    "  circuits = matroids[i][1:]\n",
    "  betas = all_betas[i]\n",
    "\n",
    "  for j in range(len(circuits)):\n",
    "    for k in range(len(circuits)):\n",
    "      if len(circuits[j]) < len(circuits[k]) and betas[j] <= betas[k]:\n",
    "        print(\"Matroid \" + str(i))\n",
    "        monotonicity_violations.append(i)\n",
    "        break\n",
    "    if i in monotonicity_violations:\n",
    "      break"
   ]
  },
  {
   "cell_type": "code",
   "execution_count": null,
   "id": "10ba50c5",
   "metadata": {
    "vscode": {
     "languageId": "plaintext"
    }
   },
   "outputs": [],
   "source": [
    "# Returns the rank of the input matroid\n",
    "\n",
    "# Input: Given matroid M on groundset E = [n] (n < max_n) with circuits c_1, ..., c_m,\n",
    "# the proper input syntax is [n, c_1, ..., c_m] where the c_i's are also lists\n",
    "\n",
    "def calc_rank(matroid):\n",
    "  n = matroid[0]\n",
    "  circuits = matroid[1:]\n",
    "\n",
    "  basis = set([])\n",
    "  for i in range(1, n + 1):\n",
    "    independent = True\n",
    "    for circuit in circuits:\n",
    "      if set(circuit).issubset(basis | set([i])):\n",
    "        independent = False\n",
    "        break\n",
    "    if independent:\n",
    "      basis |= set([i])\n",
    "\n",
    "  return len(basis)"
   ]
  },
  {
   "cell_type": "code",
   "execution_count": null,
   "id": "08cbfdc2",
   "metadata": {
    "vscode": {
     "languageId": "plaintext"
    }
   },
   "outputs": [],
   "source": [
    "# Makes a table of the input matroid's circuits and beta values\n",
    "\n",
    "# Input: For the matroid variable, given matroid M on groundset E = [n] with circuits c_1, ..., c_m,\n",
    "# the proper input syntax is [n, c_1, ..., c_m] where the c_i's are also lists\n",
    "\n",
    "# For the betas variable, the proper input syntax is a list of n! times each the beta value of each circuit\n",
    "\n",
    "def print_table(matroid, betas):\n",
    "  n = matroid[0]\n",
    "  f = math.factorial(n)\n",
    "  circuits = matroid[1:]\n",
    "  r = calc_rank(matroid)\n",
    "\n",
    "  digits = 4\n",
    "\n",
    "  rows = [{\"circuit\": circuit,\n",
    "           \"circuit size\": len(circuit),\n",
    "           \"beta value numerator\": beta // math.gcd(beta, f),\n",
    "           \"beta value denominator\": f // math.gcd(beta, f),\n",
    "           \"approximate beta value\": round((10**digits)*beta/f)/(10**digits)}\n",
    "          for circuit, beta in zip(circuits, betas)]\n",
    "\n",
    "  rows = sorted(rows, key = lambda x : x[\"approximate beta value\"])[::-1]\n",
    "  m = max([len(str(row[\"beta value numerator\"]) + str(row[\"beta value denominator\"])) for row in rows])\n",
    "\n",
    "  print(f\"Matroid (n = {n}, r = {r})\")\n",
    "  print(\"----------------------\")\n",
    "  print(\"Circuit                  |C|  Beta Values\")\n",
    "  for row in rows:\n",
    "    print(str(row[\"circuit\"]) + \" \"*(26 - len(str(row[\"circuit\"])))\n",
    "    + str(row[\"circuit size\"]) + \" \"*(m + 3 - len(str(row[\"beta value numerator\"]) + str(row[\"beta value denominator\"])))\n",
    "    + str(row[\"beta value numerator\"]) + \"/\"\n",
    "    + str(row[\"beta value denominator\"]) + \"≈\"\n",
    "    + str(row[\"approximate beta value\"]))"
   ]
  },
  {
   "cell_type": "code",
   "execution_count": null,
   "id": "044abd1f",
   "metadata": {
    "vscode": {
     "languageId": "plaintext"
    }
   },
   "outputs": [],
   "source": [
    "# Prints tables of all the matroids with monotonicity violations\n",
    "for table_index, matroid_index in zip(range(len(monotonicity_violations)), monotonicity_violations):\n",
    "  print(f\"Table {table_index + 1}:\")\n",
    "  print_table(matroids[matroid_index], all_betas[matroid_index])\n",
    "  print(\"\")"
   ]
  }
 ],
 "metadata": {
  "language_info": {
   "name": "python"
  }
 },
 "nbformat": 4,
 "nbformat_minor": 5
}
