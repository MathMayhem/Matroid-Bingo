{
  "cells": [
    {
      "cell_type": "markdown",
      "id": "3bd5fcd9",
      "metadata": {
        "id": "3bd5fcd9"
      },
      "source": []
    },
    {
      "cell_type": "markdown",
      "id": "386c03c2",
      "metadata": {
        "id": "386c03c2"
      },
      "source": [
        "<a href=\"https://colab.research.google.com/github/MathMayhem/Matroid-Bingo/blob/main/Beta_Values.ipynb\" target=\"_parent\">\n",
        "  <img src=\"https://colab.research.google.com/assets/colab-badge.svg\" alt=\"Open In Colab\"/>\n",
        "</a>"
      ]
    },
    {
      "cell_type": "code",
      "execution_count": null,
      "id": "08356fd8",
      "metadata": {
        "vscode": {
          "languageId": "plaintext"
        },
        "id": "08356fd8"
      },
      "outputs": [],
      "source": [
        "import os\n",
        "import pickle\n",
        "import math\n",
        "import numpy"
      ]
    },
    {
      "cell_type": "code",
      "execution_count": null,
      "id": "2ca00f21",
      "metadata": {
        "vscode": {
          "languageId": "plaintext"
        },
        "id": "2ca00f21"
      },
      "outputs": [],
      "source": [
        "# Download our pickle files to your google drive into a file called \"Matroid Bingo Data\" and mount your drive by running this cell\n",
        "from google.colab import drive\n",
        "drive.mount('/content/drive')"
      ]
    },
    {
      "cell_type": "code",
      "execution_count": null,
      "id": "3ac75039",
      "metadata": {
        "vscode": {
          "languageId": "plaintext"
        },
        "id": "3ac75039"
      },
      "outputs": [],
      "source": [
        "# Must be ran for the calc_beta_values function to work!\n",
        "max_n = 10\n",
        "\n",
        "max_N = 2**max_n\n",
        "supersets = [[] for i in range(max_N)]\n",
        "for i in range(max_N):\n",
        "  for j in range(max_N):\n",
        "    if (i & j) == i:\n",
        "      supersets[i].append(j)"
      ]
    },
    {
      "cell_type": "code",
      "execution_count": null,
      "id": "5f4fa979",
      "metadata": {
        "vscode": {
          "languageId": "plaintext"
        },
        "id": "5f4fa979"
      },
      "outputs": [],
      "source": [
        "# Calculates the beta values of the input matroid using the formula from Theorem B\n",
        "\n",
        "# Input: Given matroid M on groundset E = [n] (n <= max_n) with circuits c_1, ..., c_m,\n",
        "# the proper input syntax is [n, c_1, ..., c_m] where the c_i's are also lists\n",
        "\n",
        "# Output: A tuple of the untimed and timed beta values.\n",
        "# Specifically, the untimed beta values are stored in a list where the (i - 1)-th entry is n! times the beta value of circuit c_i.\n",
        "# And the timed beta values are a list of lists where the (t - 1)-th entry of the (i - 1)-th list is n! times the timed beta value of circuit c_i on round t\n",
        "\n",
        "def calc_beta_values(matroid):\n",
        "  n = matroid[0]\n",
        "  N = 2**n\n",
        "  circuits = matroid[1:]\n",
        "  m = len(circuits)\n",
        "  betas = [0]*m\n",
        "  timed_betas = [[0]*n for i in range(m)]\n",
        "\n",
        "  ind_set_counts = independent_set_counts(matroid)[1:]\n",
        "\n",
        "  # Implements the formula from Theorem B\n",
        "  for i in range(m):\n",
        "    s = len(circuits[i])\n",
        "\n",
        "    for k in range(n - s + 1):\n",
        "      timed_betas[i][s + k - 1] = ind_set_counts[i][k]*s*math.factorial(s + k - 1)*math.factorial(n - s - k)\n",
        "      betas[i] += timed_betas[i][s + k - 1]\n",
        "\n",
        "  return betas, timed_betas\n",
        "\n",
        "# Helper function for the calc_beta_values and calc_direct_sum functions which calculates I_{C, k} values from Theorem B (as well as I_k values)\n",
        "def independent_set_counts(matroid):\n",
        "  n = matroid[0]\n",
        "  N = 2**n\n",
        "  circuits = matroid[1:]\n",
        "  m = len(circuits)\n",
        "  ind_set_counts = [[0]*(n + 1)] + [[0]*(n - len(c) + 1) for c in circuits]\n",
        "\n",
        "  # Encodes circuit elements into binary integers\n",
        "  circuit_indices = [sum([2**(e - 1) for e in c]) for c in circuits]\n",
        "\n",
        "  # Creates a fast lookup table for how many circuits are completed by each possible subset of E\n",
        "  lookup_table = [0]*N\n",
        "  for i in range(m):\n",
        "    for superset in supersets[circuit_indices[i]]:\n",
        "      if superset >= N:\n",
        "        break\n",
        "      lookup_table[superset] += 1\n",
        "\n",
        "  # Calculate I_k values\n",
        "  for i in range(N):\n",
        "    if lookup_table[i] == 0:\n",
        "      ind_set_counts[0][bin(i)[2:].count('1')] += 1\n",
        "\n",
        "  # Calculate I_{C, k} values\n",
        "  for i in range(m):\n",
        "    s = len(circuits[i])\n",
        "\n",
        "    for superset in supersets[circuit_indices[i]]:\n",
        "      if superset >= N:\n",
        "        break\n",
        "      if lookup_table[superset] == 1:\n",
        "        ind_set_counts[i + 1][bin(superset)[2:].count('1') - s] += 1\n",
        "\n",
        "  return ind_set_counts"
      ]
    },
    {
      "cell_type": "code",
      "execution_count": null,
      "id": "d0cc762e",
      "metadata": {
        "vscode": {
          "languageId": "plaintext"
        },
        "id": "d0cc762e"
      },
      "outputs": [],
      "source": [
        "# Loads the non-isomorphic matroids on up to 9 elements from the pickle files\n",
        "save_path = '/content/drive/My Drive/Matroid Bingo Data/'\n",
        "with open(os.path.join(save_path, 'circuits.pkl'), 'rb') as file:\n",
        "  matroids = pickle.load(file)"
      ]
    },
    {
      "cell_type": "code",
      "execution_count": null,
      "id": "b4079779",
      "metadata": {
        "vscode": {
          "languageId": "plaintext"
        },
        "id": "b4079779"
      },
      "outputs": [],
      "source": [
        "# Calculates the beta values of all database matroids\n",
        "all_betas = []\n",
        "all_timed_betas = []\n",
        "for matroid in matroids:\n",
        "  betas, timed_betas = calc_beta_values(matroid)\n",
        "  all_betas.append(betas)\n",
        "  all_timed_betas.append(timed_betas)"
      ]
    },
    {
      "cell_type": "code",
      "execution_count": null,
      "id": "19b5c2f6",
      "metadata": {
        "vscode": {
          "languageId": "plaintext"
        },
        "id": "19b5c2f6"
      },
      "outputs": [],
      "source": [
        "# Loads the beta values of all database matroids from the pickle files\n",
        "save_path = '/content/drive/My Drive/Matroid Bingo Data/'\n",
        "with open(os.path.join(save_path, 'beta values.pkl'), 'rb') as file:\n",
        "  all_betas = pickle.load(file)\n",
        "with open(os.path.join(save_path, 'timed beta values.pkl'), 'rb') as file:\n",
        "  all_timed_betas = pickle.load(file)"
      ]
    },
    {
      "cell_type": "code",
      "execution_count": null,
      "id": "dda26789",
      "metadata": {
        "vscode": {
          "languageId": "plaintext"
        },
        "id": "dda26789"
      },
      "outputs": [],
      "source": [
        "# Finds all the database matroids with monotonicity violations\n",
        "monotonicity_violations = []\n",
        "for i in range(len(matroids)):\n",
        "  circuits = matroids[i][1:]\n",
        "  betas = all_betas[i]\n",
        "\n",
        "  for j in range(len(circuits)):\n",
        "    for k in range(len(circuits)):\n",
        "      if len(circuits[j]) < len(circuits[k]) and betas[j] <= betas[k]:\n",
        "        print(\"Matroid \" + str(i))\n",
        "        monotonicity_violations.append(i)\n",
        "        break\n",
        "    if i in monotonicity_violations:\n",
        "      break"
      ]
    },
    {
      "cell_type": "code",
      "execution_count": null,
      "id": "10ba50c5",
      "metadata": {
        "vscode": {
          "languageId": "plaintext"
        },
        "id": "10ba50c5"
      },
      "outputs": [],
      "source": [
        "# Returns the rank of the input matroid\n",
        "\n",
        "# Input: Given matroid M on groundset E = [n] (n <= max_n) with circuits c_1, ..., c_m,\n",
        "# the proper input syntax is [n, c_1, ..., c_m] where the c_i's are also lists\n",
        "\n",
        "def calc_rank(matroid):\n",
        "  n = matroid[0]\n",
        "  circuits = matroid[1:]\n",
        "\n",
        "  basis = set([])\n",
        "  for i in range(1, n + 1):\n",
        "    independent = True\n",
        "    for circuit in circuits:\n",
        "      if set(circuit).issubset(basis | set([i])):\n",
        "        independent = False\n",
        "        break\n",
        "    if independent:\n",
        "      basis |= set([i])\n",
        "\n",
        "  return len(basis)"
      ]
    },
    {
      "cell_type": "code",
      "execution_count": null,
      "id": "08cbfdc2",
      "metadata": {
        "vscode": {
          "languageId": "plaintext"
        },
        "id": "08cbfdc2"
      },
      "outputs": [],
      "source": [
        "# Makes a table of the input matroid's circuits and beta values\n",
        "\n",
        "# Input: For the matroid variable, given matroid M on groundset E = [n] with circuits c_1, ..., c_m,\n",
        "# the proper input syntax is [n, c_1, ..., c_m] where the c_i's are also lists\n",
        "\n",
        "# For the betas variable, the proper input syntax is a list of n! times each the beta value of each circuit\n",
        "\n",
        "def print_table(matroid, betas):\n",
        "  n = matroid[0]\n",
        "  f = math.factorial(n)\n",
        "  circuits = matroid[1:]\n",
        "  r = calc_rank(matroid)\n",
        "\n",
        "  digits = 4\n",
        "\n",
        "  rows = [{\"circuit\": circuit,\n",
        "           \"circuit size\": len(circuit),\n",
        "           \"beta value numerator\": beta // math.gcd(beta, f),\n",
        "           \"beta value denominator\": f // math.gcd(beta, f),\n",
        "           \"approximate beta value\": round((10**digits)*beta/f)/(10**digits)}\n",
        "          for circuit, beta in zip(circuits, betas)]\n",
        "\n",
        "  rows = sorted(rows, key = lambda x : x[\"approximate beta value\"])[::-1]\n",
        "  m = max([len(str(row[\"beta value numerator\"]) + str(row[\"beta value denominator\"])) for row in rows])\n",
        "\n",
        "  print(f\"Matroid (n = {n}, r = {r})\")\n",
        "  print(\"----------------------\")\n",
        "  print(\"Circuit                  |C|  Beta Values\")\n",
        "  for row in rows:\n",
        "    print(str(row[\"circuit\"]) + \" \"*(26 - len(str(row[\"circuit\"])))\n",
        "    + str(row[\"circuit size\"]) + \" \"*(m + 3 - len(str(row[\"beta value numerator\"]) + str(row[\"beta value denominator\"])))\n",
        "    + str(row[\"beta value numerator\"]) + \"/\"\n",
        "    + str(row[\"beta value denominator\"]) + \"≈\"\n",
        "    + str(row[\"approximate beta value\"]))"
      ]
    },
    {
      "cell_type": "code",
      "execution_count": null,
      "id": "044abd1f",
      "metadata": {
        "vscode": {
          "languageId": "plaintext"
        },
        "id": "044abd1f"
      },
      "outputs": [],
      "source": [
        "# Prints tables of all the matroids with monotonicity violations\n",
        "for table_index, matroid_index in zip(range(len(monotonicity_violations)), monotonicity_violations):\n",
        "  print(f\"Table {table_index + 1}:\")\n",
        "  print_table(matroids[matroid_index], all_betas[matroid_index])\n",
        "  print(\"\")"
      ]
    },
    {
      "cell_type": "code",
      "source": [
        "# Generates a uniform matroid of rank r on n elements\n",
        "def generate_uniform(r, n):\n",
        "  return [n] + [list(c) for c in itertools.combinations([i for i in range(1, n + 1)], r + 1)]"
      ],
      "metadata": {
        "id": "BAyl3dW6EIQ1"
      },
      "id": "BAyl3dW6EIQ1",
      "execution_count": null,
      "outputs": []
    },
    {
      "cell_type": "code",
      "source": [
        "# Calculates the beta values of the direct sum of the list of input matroids\n",
        "\n",
        "# Input: A list of matroids each on at most n_max elements in the standard matroid format\n",
        "\n",
        "# Output: A tuple of the direct sum matroid in standard matroid format, the untimed, and the timed beta values in the standard formats.\n",
        "# These beta values are in the same order as the output circuits of the direct sum matroid\n",
        "# this ordering is first by index in the initial list of matroids and second by the circuit index within that matroid.\n",
        "\n",
        "def calc_direct_sum(matroids):\n",
        "  l = len(matroids)\n",
        "  n = sum([matroid[0] for matroid in matroids])\n",
        "  circuits = [matroid[1:] for matroid in matroids]\n",
        "  m = sum([len(matroid[1:]) for matroid in matroids])\n",
        "  betas = [0]*m\n",
        "  timed_betas = [[0]*n for i in range(m)]\n",
        "\n",
        "  # Compute direct sum matroid\n",
        "  direct_sum_matroid = [n]\n",
        "  num_used = 0\n",
        "  for i in range(l):\n",
        "    direct_sum_matroid += [[e + num_used for e in c] for c in circuits[i]]\n",
        "    num_used += matroids[i][0]\n",
        "\n",
        "  individual_counts = [independent_set_counts(matroid) for matroid in matroids]\n",
        "\n",
        "  circuit_index = 0\n",
        "  for i in range(l):\n",
        "    for j in range(len(circuits[i])):\n",
        "      s = len(circuits[i][j])\n",
        "\n",
        "      # The I_{C, k} values for direct sums of matroids can be calculated using convolution\n",
        "      combined_counts = individual_counts[i][j + 1]\n",
        "      for k in range(l):\n",
        "        if k != i:\n",
        "          combined_counts = [int(x) for x in numpy.convolve(combined_counts, individual_counts[k][0])]\n",
        "\n",
        "      # Applying the formula from Theorem B\n",
        "      for k in range(n - s + 1):\n",
        "        timed_betas[circuit_index][s + k - 1] = combined_counts[k]*s*math.factorial(s + k - 1)*math.factorial(n - s - k)\n",
        "        betas[circuit_index] += timed_betas[circuit_index][s + k - 1]\n",
        "\n",
        "      circuit_index += 1\n",
        "\n",
        "  return direct_sum_matroid, betas, timed_betas"
      ],
      "metadata": {
        "id": "dNF4UNDtELOQ"
      },
      "id": "dNF4UNDtELOQ",
      "execution_count": null,
      "outputs": []
    },
    {
      "cell_type": "code",
      "source": [
        "# Example of using the calc_direct_sum function\n",
        "# This verifies Proposition 2.33 (2)\n",
        "direct_sum, betas, timed_betas = calc_direct_sum([generate_uniform(4, 6), generate_uniform(8, 9)])\n",
        "print(\"Direct Sum Matroid:\")\n",
        "print(direct_sum)\n",
        "print(\"Betas:\")\n",
        "print(betas)\n",
        "print(\"Timed Betas:\")\n",
        "for l in timed_betas:\n",
        "  print(l)"
      ],
      "metadata": {
        "id": "IbAdxbgjENur"
      },
      "id": "IbAdxbgjENur",
      "execution_count": null,
      "outputs": []
    }
  ],
  "metadata": {
    "language_info": {
      "name": "python"
    },
    "colab": {
      "provenance": []
    }
  },
  "nbformat": 4,
  "nbformat_minor": 5
}